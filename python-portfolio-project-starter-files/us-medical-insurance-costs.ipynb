{
 "cells": [
  {
   "cell_type": "markdown",
   "metadata": {},
   "source": [
    "# U.S. Medical Insurance Costs"
   ]
  },
  {
   "cell_type": "code",
   "execution_count": 15,
   "metadata": {},
   "outputs": [],
   "source": [
    "import pandas as pd\n",
    "import numpy as np\n",
    "import scipy.stats as stats\n",
    "import statistics\n",
    "from matplotlib import pyplot as plt\n",
    "import seaborn as sns"
   ]
  },
  {
   "cell_type": "code",
   "execution_count": 2,
   "metadata": {},
   "outputs": [
    {
     "name": "stdout",
     "output_type": "stream",
     "text": [
      "   age     sex     bmi  children smoker     region      charges\n",
      "0   19  female  27.900         0    yes  southwest  16884.92400\n",
      "1   18    male  33.770         1     no  southeast   1725.55230\n",
      "2   28    male  33.000         3     no  southeast   4449.46200\n",
      "3   33    male  22.705         0     no  northwest  21984.47061\n",
      "4   32    male  28.880         0     no  northwest   3866.85520\n"
     ]
    }
   ],
   "source": [
    "df = pd.read_csv('/Users/benjaminmcdaniel/Desktop/python-portfolio-project-starter-files/insurance.csv')\n",
    "print(df.head())"
   ]
  },
  {
   "cell_type": "code",
   "execution_count": 3,
   "metadata": {},
   "outputs": [
    {
     "name": "stdout",
     "output_type": "stream",
     "text": [
      "   age     sex     bmi  children smoker     region      charges\n",
      "1   18    male  33.770         1     no  southeast   1725.55230\n",
      "2   28    male  33.000         3     no  southeast   4449.46200\n",
      "3   33    male  22.705         0     no  northwest  21984.47061\n",
      "4   32    male  28.880         0     no  northwest   3866.85520\n",
      "5   31  female  25.740         0     no  southeast   3756.62160\n",
      "    age     sex    bmi  children smoker     region     charges\n",
      "0    19  female  27.90         0    yes  southwest  16884.9240\n",
      "11   62  female  26.29         0    yes  southeast  27808.7251\n",
      "14   27    male  42.13         0    yes  southeast  39611.7577\n",
      "19   30    male  35.30         0    yes  southwest  36837.4670\n",
      "23   34  female  31.92         1    yes  northeast  37701.8768\n"
     ]
    }
   ],
   "source": [
    "#split the data set between smokers and non smokers and save as variables\n",
    "non_smokers = df[df.smoker == 'no']\n",
    "smokers = df[df.smoker == 'yes']\n",
    "print(non_smokers.head())\n",
    "print(smokers.head())"
   ]
  },
  {
   "cell_type": "code",
   "execution_count": 7,
   "metadata": {},
   "outputs": [
    {
     "name": "stdout",
     "output_type": "stream",
     "text": [
      "              age         bmi    children       charges\n",
      "count  274.000000  274.000000  274.000000    274.000000\n",
      "mean    38.514599   30.708449    1.113139  32050.231832\n",
      "std     13.923186    6.318644    1.157066  11541.547176\n",
      "min     18.000000   17.195000    0.000000  12829.455100\n",
      "25%     27.000000   26.083750    0.000000  20826.244213\n",
      "50%     38.000000   30.447500    1.000000  34456.348450\n",
      "75%     49.000000   35.200000    2.000000  41019.207275\n",
      "max     64.000000   52.580000    5.000000  63770.428010\n",
      "               age          bmi     children       charges\n",
      "count  1064.000000  1064.000000  1064.000000   1064.000000\n",
      "mean     39.385338    30.651795     1.090226   8434.268298\n",
      "std      14.083410     6.043111     1.218136   5993.781819\n",
      "min      18.000000    15.960000     0.000000   1121.873900\n",
      "25%      26.750000    26.315000     0.000000   3986.438700\n",
      "50%      40.000000    30.352500     1.000000   7345.405300\n",
      "75%      52.000000    34.430000     2.000000  11362.887050\n",
      "max      64.000000    53.130000     5.000000  36910.608030\n"
     ]
    }
   ],
   "source": [
    "#use univatiate statistics to describe the data\n",
    "print(smokers.describe())\n",
    "print(non_smokers.describe())"
   ]
  },
  {
   "cell_type": "code",
   "execution_count": 54,
   "metadata": {},
   "outputs": [
    {
     "name": "stdout",
     "output_type": "stream",
     "text": [
      "count      274.000000\n",
      "mean     32050.231832\n",
      "std      11541.547176\n",
      "min      12829.455100\n",
      "25%      20826.244213\n",
      "50%      34456.348450\n",
      "75%      41019.207275\n",
      "max      63770.428010\n",
      "Name: charges, dtype: float64\n",
      "The IQR for smokers is: 20192.9630625\n",
      "The standard deviation for smokers is:  11520.466706529429\n",
      "The variance for smokers is:  133207311.20634925\n",
      "The skewness of smokers is:  0.12821727537875743\n",
      "The range of smokers is:  50940.972910000004\n",
      "The mode for smokers is:  ModeResult(mode=array([12829.4551]), count=array([1]))\n",
      "The modality of smokers is: bimodal\n",
      "The presence of outliers for smokers is: at the $60,000 mark\n"
     ]
    },
    {
     "data": {
      "image/png": "[encoded data removed]",
      "text/plain": [
       "<Figure size 432x288 with 1 Axes>"
      ]
     },
     "metadata": {
      "needs_background": "light"
     },
     "output_type": "display_data"
    },
    {
     "data": {
      "text/plain": [
       "<Figure size 432x288 with 0 Axes>"
      ]
     },
     "metadata": {},
     "output_type": "display_data"
    },
    {
     "data": {
      "image/png": "[encoded data removed]",
      "text/plain": [
       "<Figure size 360x360 with 1 Axes>"
      ]
     },
     "metadata": {
      "needs_background": "light"
     },
     "output_type": "display_data"
    },
    {
     "data": {
      "text/plain": [
       "<Figure size 432x288 with 0 Axes>"
      ]
     },
     "metadata": {},
     "output_type": "display_data"
    }
   ],
   "source": [
    "#describe the distribution of a continuous variable center, spread, skew, modality, outliers. \n",
    "IQR_smokers_charges = stats.iqr(smokers.charges)\n",
    "sigma_smokers_charges = np.std(smokers.charges)\n",
    "var_smokers_charges = statistics.variance(smokers.charges, 32050.231832)\n",
    "range_smokers_charges = smokers.charges.max() - smokers.charges.min()\n",
    "print(smokers.charges.describe())\n",
    "print('The IQR for smokers is:', IQR_smokers_charges)\n",
    "print('The standard deviation for smokers is: ', sigma_smokers_charges )\n",
    "print('The variance for smokers is: ', var_smokers_charges)\n",
    "print('The skewness of smokers is: ', smokers.charges.skew())\n",
    "print('The range of smokers is: ', range_smokers_charges )\n",
    "print('The mode for smokers is: ', stats.mode(smokers.charges))\n",
    "print('The modality of smokers is: bimodal')\n",
    "print('The presence of outliers for smokers is: at the $60,000 mark')\n",
    "\n",
    "plt.boxplot(smokers.charges)\n",
    "plt.xlabel('Smoker charges')\n",
    "plt.ylabel('Count')\n",
    "plt.show()\n",
    "plt.clf()\n",
    "sns.displot(smokers.charges,color='blue', label=\"Smokers_charges\")\n",
    "plt.xlabel('Charges')\n",
    "plt.ylabel('Count')\n",
    "plt.legend()\n",
    "plt.show()\n",
    "plt.clf()"
   ]
  },
  {
   "cell_type": "code",
   "execution_count": 32,
   "metadata": {},
   "outputs": [
    {
     "data": {
      "image/png": "[encoded data removed]",
      "text/plain": [
       "<Figure size 432x288 with 1 Axes>"
      ]
     },
     "metadata": {
      "needs_background": "light"
     },
     "output_type": "display_data"
    }
   ],
   "source": [
    "#side by side boxplot to inspect the charges between smokers and non_smokers\n",
    "plt.clf()\n",
    "sns.boxplot(data = df, x = 'smoker', y='charges')\n",
    "plt.show()"
   ]
  },
  {
   "cell_type": "code",
   "execution_count": 18,
   "metadata": {},
   "outputs": [],
   "source": [
    "#seperate the smokers data set into male and female \n",
    "smokers_male = smokers[smokers.sex == 'male']\n",
    "smokers_female = smokers[smokers.sex == 'female']"
   ]
  },
  {
   "cell_type": "code",
   "execution_count": 28,
   "metadata": {},
   "outputs": [
    {
     "data": {
      "text/plain": [
       "<AxesSubplot:>"
      ]
     },
     "execution_count": 28,
     "metadata": {},
     "output_type": "execute_result"
    },
    {
     "data": {
      "image/png": "[encoded data removed]",
      "text/plain": [
       "<Figure size 432x288 with 1 Axes>"
      ]
     },
     "metadata": {
      "needs_background": "light"
     },
     "output_type": "display_data"
    }
   ],
   "source": [
    "smokers_male.charges.hist()\n",
    "smokers_female.charges.hist()\n"
   ]
  },
  {
   "cell_type": "code",
   "execution_count": 37,
   "metadata": {},
   "outputs": [
    {
     "name": "stdout",
     "output_type": "stream",
     "text": [
      "0.09447953030991117\n"
     ]
    }
   ],
   "source": [
    "#run a t-test for mean comparison between charges for male and female smokers 95% confidence Alpha = .05 the data is not normally distributed. \n",
    "tstat, pval = stats.ttest_ind(smokers_male.charges, smokers_female.charges)\n",
    "print(pval)"
   ]
  },
  {
   "cell_type": "code",
   "execution_count": 46,
   "metadata": {},
   "outputs": [],
   "source": [
    "#split the data for male smokers under 40 and male smokers above 40\n",
    "sm_male_under40 = smokers_male[smokers_male.age < 40]\n",
    "sm_male_over40 = smokers_male[smokers_male.age >= 40]\n"
   ]
  },
  {
   "cell_type": "code",
   "execution_count": 52,
   "metadata": {},
   "outputs": [
    {
     "name": "stdout",
     "output_type": "stream",
     "text": [
      "1.0047542750078352e-05\n"
     ]
    }
   ],
   "source": [
    "tstat, pval = stats.ttest_ind(sm_male_under40.charges, sm_male_over40.charges)\n",
    "print(pval)"
   ]
  },
  {
   "cell_type": "code",
   "execution_count": 53,
   "metadata": {},
   "outputs": [
    {
     "data": {
      "image/png": "[encoded data removed]",
      "text/plain": [
       "<Figure size 432x288 with 1 Axes>"
      ]
     },
     "metadata": {
      "needs_background": "light"
     },
     "output_type": "display_data"
    }
   ],
   "source": [
    "#plot an overlapping histogram to visualize the data for men who smoke over 40 vs under 40\n",
    "plt.clf()\n",
    "plt.hist(sm_male_under40.charges, color='blue', label = 'male smokers < 40', density=True, alpha=0.5)\n",
    "plt.hist(sm_male_over40.charges, color='red', label = 'male smokers >= 40', density=True, alpha=0.5)\n",
    "plt.legend()\n",
    "plt.show()"
   ]
  },
  {
   "cell_type": "code",
   "execution_count": 47,
   "metadata": {},
   "outputs": [],
   "source": [
    "#split the data for female smokers under 40 and female smokers over 40\n",
    "sm_female_under40 = smokers_female[smokers_female.age < 40]\n",
    "sm_female_over40 = smokers_female[smokers_female.age >= 40]"
   ]
  },
  {
   "cell_type": "code",
   "execution_count": 55,
   "metadata": {},
   "outputs": [
    {
     "name": "stdout",
     "output_type": "stream",
     "text": [
      "0.0021393866153821325\n"
     ]
    }
   ],
   "source": [
    "tstat, pval = stats.ttest_ind(sm_female_under40.charges, sm_female_over40.charges)\n",
    "print(pval)"
   ]
  },
  {
   "cell_type": "code",
   "execution_count": 56,
   "metadata": {},
   "outputs": [
    {
     "data": {
      "image/png": "[encoded data removed]",
      "text/plain": [
       "<Figure size 432x288 with 1 Axes>"
      ]
     },
     "metadata": {
      "needs_background": "light"
     },
     "output_type": "display_data"
    }
   ],
   "source": [
    "#plot an overlapping histogram to visualize the data for men who smoke over 40 vs under 40\n",
    "plt.clf()\n",
    "plt.hist(sm_female_under40.charges, color='blue', label = 'female smokers < 40', density=True, alpha=0.5)\n",
    "plt.hist(sm_female_over40.charges, color='red', label = 'female smokers >= 40', density=True, alpha=0.5)\n",
    "plt.legend()\n",
    "plt.show()"
   ]
  },
  {
   "cell_type": "code",
   "execution_count": 4,
   "metadata": {},
   "outputs": [
    {
     "name": "stdout",
     "output_type": "stream",
     "text": [
      "['southwest' 'southeast' 'northwest' 'northeast']\n"
     ]
    }
   ],
   "source": [
    "#find the unique categories for region \n",
    "print(df.region.unique())"
   ]
  },
  {
   "cell_type": "code",
   "execution_count": 5,
   "metadata": {},
   "outputs": [],
   "source": [
    "#split the data set by region for future analysis\n",
    "southwest = df[df.region == 'southwest']\n",
    "southeast = df[df.region == 'southeast']\n",
    "northwest = df[df.region == 'northwest']\n",
    "northeast = df[df.region == 'northeast']\n"
   ]
  },
  {
   "cell_type": "code",
   "execution_count": 44,
   "metadata": {},
   "outputs": [
    {
     "data": {
      "text/plain": [
       "array([[<AxesSubplot:title={'center':'age'}>,\n",
       "        <AxesSubplot:title={'center':'bmi'}>],\n",
       "       [<AxesSubplot:title={'center':'children'}>,\n",
       "        <AxesSubplot:title={'center':'charges'}>]], dtype=object)"
      ]
     },
     "execution_count": 44,
     "metadata": {},
     "output_type": "execute_result"
    },
    {
     "data": {
      "image/png": "[encoded data removed]",
      "text/plain": [
       "<Figure size 432x288 with 4 Axes>"
      ]
     },
     "metadata": {
      "needs_background": "light"
     },
     "output_type": "display_data"
    }
   ],
   "source": [
    "nws = northwest[northwest.smoker == 'yes']\n",
    "nws.hist()"
   ]
  },
  {
   "cell_type": "code",
   "execution_count": 25,
   "metadata": {},
   "outputs": [
    {
     "data": {
      "text/plain": [
       "<AxesSubplot:xlabel='region'>"
      ]
     },
     "execution_count": 25,
     "metadata": {},
     "output_type": "execute_result"
    },
    {
     "data": {
      "image/png": "[encoded data removed]",
      "text/plain": [
       "<Figure size 432x288 with 1 Axes>"
      ]
     },
     "metadata": {
      "needs_background": "light"
     },
     "output_type": "display_data"
    }
   ],
   "source": [
    "#construct a stacked bar chart for the variables region and sex\n",
    "pd.crosstab(df['region'], df['sex']).plot(kind='bar', stacked=True)"
   ]
  },
  {
   "cell_type": "code",
   "execution_count": 6,
   "metadata": {},
   "outputs": [],
   "source": [
    "#split the data set by sex for future analysis\n",
    "men = df[df.sex == 'male']\n",
    "women = df[df.sex == 'female']"
   ]
  },
  {
   "cell_type": "code",
   "execution_count": null,
   "metadata": {},
   "outputs": [],
   "source": []
  }
 ],
 "metadata": {
  "kernelspec": {
   "display_name": "Python 3",
   "language": "python",
   "name": "python3"
  },
  "language_info": {
   "codemirror_mode": {
    "name": "ipython",
    "version": 3
   },
   "file_extension": ".py",
   "mimetype": "text/x-python",
   "name": "python",
   "nbconvert_exporter": "python",
   "pygments_lexer": "ipython3",
   "version": "3.8.5"
  }
 },
 "nbformat": 4,
 "nbformat_minor": 4
}
